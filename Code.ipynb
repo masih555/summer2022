{
 "cells": [
  {
   "cell_type": "markdown",
   "id": "33f0fe63",
   "metadata": {},
   "source": [
    "# Loading the Package"
   ]
  },
  {
   "cell_type": "code",
   "execution_count": 1,
   "id": "07fea458",
   "metadata": {},
   "outputs": [],
   "source": [
    "# Importing Pandas \n",
    "\n",
    "import pandas as pd\n",
    "import numpy as np"
   ]
  },
  {
   "cell_type": "markdown",
   "id": "8cd04c19",
   "metadata": {},
   "source": [
    "# Data Preprocessing"
   ]
  },
  {
   "cell_type": "code",
   "execution_count": 3,
   "id": "f5b5da0e",
   "metadata": {},
   "outputs": [],
   "source": [
    "# Importing CAB DATA file into Pandas\n",
    "\n",
    "dfcab = pd.read_excel(r'C:\\Users\\MMOHIUD2\\Desktop\\Internship\\CAB Project\\CAB DATA.xlsx')"
   ]
  },
  {
   "cell_type": "code",
   "execution_count": 4,
   "id": "9e5dec5b",
   "metadata": {},
   "outputs": [
    {
     "data": {
      "text/html": [
       "<div>\n",
       "<style scoped>\n",
       "    .dataframe tbody tr th:only-of-type {\n",
       "        vertical-align: middle;\n",
       "    }\n",
       "\n",
       "    .dataframe tbody tr th {\n",
       "        vertical-align: top;\n",
       "    }\n",
       "\n",
       "    .dataframe thead th {\n",
       "        text-align: right;\n",
       "    }\n",
       "</style>\n",
       "<table border=\"1\" class=\"dataframe\">\n",
       "  <thead>\n",
       "    <tr style=\"text-align: right;\">\n",
       "      <th></th>\n",
       "      <th>Transaction ID</th>\n",
       "      <th>Date of Travel</th>\n",
       "      <th>Company</th>\n",
       "      <th>City</th>\n",
       "      <th>KM Travelled</th>\n",
       "      <th>Price Charged</th>\n",
       "      <th>Cost of Trip</th>\n",
       "    </tr>\n",
       "  </thead>\n",
       "  <tbody>\n",
       "    <tr>\n",
       "      <th>0</th>\n",
       "      <td>10000011</td>\n",
       "      <td>2016-01-08 00:00:00</td>\n",
       "      <td>Pink Cab</td>\n",
       "      <td>ATLANTA GA</td>\n",
       "      <td>30.45</td>\n",
       "      <td>370.95</td>\n",
       "      <td>313.635</td>\n",
       "    </tr>\n",
       "    <tr>\n",
       "      <th>1</th>\n",
       "      <td>10000012</td>\n",
       "      <td>2016-01-09 00:00:00</td>\n",
       "      <td>Pink Cab</td>\n",
       "      <td>ATLANTA GA</td>\n",
       "      <td>28.62</td>\n",
       "      <td>358.52</td>\n",
       "      <td>334.854</td>\n",
       "    </tr>\n",
       "    <tr>\n",
       "      <th>2</th>\n",
       "      <td>10000013</td>\n",
       "      <td>2016-01-10 00:00:00</td>\n",
       "      <td>Pink Cab</td>\n",
       "      <td>ATLANTA GA</td>\n",
       "      <td>9.04</td>\n",
       "      <td>125.20</td>\n",
       "      <td>97.632</td>\n",
       "    </tr>\n",
       "    <tr>\n",
       "      <th>3</th>\n",
       "      <td>10000014</td>\n",
       "      <td>2016-01-11 00:00:00</td>\n",
       "      <td>Pink Cab</td>\n",
       "      <td>ATLANTA GA</td>\n",
       "      <td>33.17</td>\n",
       "      <td>377.40</td>\n",
       "      <td>351.602</td>\n",
       "    </tr>\n",
       "    <tr>\n",
       "      <th>4</th>\n",
       "      <td>10000015</td>\n",
       "      <td>2016-01-12 00:00:00</td>\n",
       "      <td>Pink Cab</td>\n",
       "      <td>ATLANTA GA</td>\n",
       "      <td>8.73</td>\n",
       "      <td>114.62</td>\n",
       "      <td>97.776</td>\n",
       "    </tr>\n",
       "  </tbody>\n",
       "</table>\n",
       "</div>"
      ],
      "text/plain": [
       "   Transaction ID       Date of Travel   Company        City  KM Travelled  \\\n",
       "0        10000011  2016-01-08 00:00:00  Pink Cab  ATLANTA GA         30.45   \n",
       "1        10000012  2016-01-09 00:00:00  Pink Cab  ATLANTA GA         28.62   \n",
       "2        10000013  2016-01-10 00:00:00  Pink Cab  ATLANTA GA          9.04   \n",
       "3        10000014  2016-01-11 00:00:00  Pink Cab  ATLANTA GA         33.17   \n",
       "4        10000015  2016-01-12 00:00:00  Pink Cab  ATLANTA GA          8.73   \n",
       "\n",
       "   Price Charged  Cost of Trip  \n",
       "0         370.95       313.635  \n",
       "1         358.52       334.854  \n",
       "2         125.20        97.632  \n",
       "3         377.40       351.602  \n",
       "4         114.62        97.776  "
      ]
     },
     "execution_count": 4,
     "metadata": {},
     "output_type": "execute_result"
    }
   ],
   "source": [
    "# Inspecting the data \n",
    "\n",
    "dfcab.head()"
   ]
  },
  {
   "cell_type": "code",
   "execution_count": 4,
   "id": "d2ece894",
   "metadata": {},
   "outputs": [
    {
     "name": "stdout",
     "output_type": "stream",
     "text": [
      "<class 'pandas.core.frame.DataFrame'>\n",
      "RangeIndex: 359392 entries, 0 to 359391\n",
      "Data columns (total 7 columns):\n",
      " #   Column          Non-Null Count   Dtype  \n",
      "---  ------          --------------   -----  \n",
      " 0   Transaction ID  359392 non-null  int64  \n",
      " 1   Date of Travel  359392 non-null  object \n",
      " 2   Company         359392 non-null  object \n",
      " 3   City            359392 non-null  object \n",
      " 4   KM Travelled    359392 non-null  float64\n",
      " 5   Price Charged   359392 non-null  float64\n",
      " 6   Cost of Trip    359392 non-null  float64\n",
      "dtypes: float64(3), int64(1), object(3)\n",
      "memory usage: 19.2+ MB\n"
     ]
    }
   ],
   "source": [
    "# Checking CAB DATA properties\n",
    "\n",
    "dfcab.info()"
   ]
  },
  {
   "cell_type": "code",
   "execution_count": 69,
   "id": "628a70e4",
   "metadata": {},
   "outputs": [
    {
     "data": {
      "text/plain": [
       "False"
      ]
     },
     "execution_count": 69,
     "metadata": {},
     "output_type": "execute_result"
    }
   ],
   "source": [
    "# Checking for null values\n",
    "\n",
    "dfcab.isnull(). values. any()"
   ]
  },
  {
   "cell_type": "code",
   "execution_count": 70,
   "id": "0e3fe961",
   "metadata": {},
   "outputs": [
    {
     "data": {
      "text/plain": [
       "False"
      ]
     },
     "execution_count": 70,
     "metadata": {},
     "output_type": "execute_result"
    }
   ],
   "source": [
    "# Checking for duplicate values\n",
    "\n",
    "dfcab.duplicated(). values. any()"
   ]
  },
  {
   "cell_type": "code",
   "execution_count": 71,
   "id": "54916bc5",
   "metadata": {},
   "outputs": [
    {
     "data": {
      "text/plain": [
       "False"
      ]
     },
     "execution_count": 71,
     "metadata": {},
     "output_type": "execute_result"
    }
   ],
   "source": [
    "# Checking for blank values\n",
    "\n",
    "dfcab.eq(''). values. any()       "
   ]
  },
  {
   "cell_type": "code",
   "execution_count": 5,
   "id": "5e3ae797",
   "metadata": {},
   "outputs": [],
   "source": [
    "# Importing CITY DATA file into Pandas\n",
    "\n",
    "dfcity = pd.read_excel(r'C:\\Users\\MMOHIUD2\\Desktop\\Internship\\CAB Project\\CITY DATA.xlsx')"
   ]
  },
  {
   "cell_type": "code",
   "execution_count": 16,
   "id": "14d6ea29",
   "metadata": {},
   "outputs": [
    {
     "name": "stdout",
     "output_type": "stream",
     "text": [
      "<class 'pandas.core.frame.DataFrame'>\n",
      "RangeIndex: 20 entries, 0 to 19\n",
      "Data columns (total 3 columns):\n",
      " #   Column      Non-Null Count  Dtype \n",
      "---  ------      --------------  ----- \n",
      " 0   City        20 non-null     object\n",
      " 1   Population  20 non-null     int64 \n",
      " 2   Users       20 non-null     int64 \n",
      "dtypes: int64(2), object(1)\n",
      "memory usage: 608.0+ bytes\n"
     ]
    }
   ],
   "source": [
    "# Checking CITY DATA properties\n",
    "\n",
    "dfcity.info()"
   ]
  },
  {
   "cell_type": "code",
   "execution_count": 18,
   "id": "143e53ac",
   "metadata": {},
   "outputs": [
    {
     "data": {
      "text/html": [
       "<div>\n",
       "<style scoped>\n",
       "    .dataframe tbody tr th:only-of-type {\n",
       "        vertical-align: middle;\n",
       "    }\n",
       "\n",
       "    .dataframe tbody tr th {\n",
       "        vertical-align: top;\n",
       "    }\n",
       "\n",
       "    .dataframe thead th {\n",
       "        text-align: right;\n",
       "    }\n",
       "</style>\n",
       "<table border=\"1\" class=\"dataframe\">\n",
       "  <thead>\n",
       "    <tr style=\"text-align: right;\">\n",
       "      <th></th>\n",
       "      <th>City</th>\n",
       "      <th>Population</th>\n",
       "      <th>Users</th>\n",
       "    </tr>\n",
       "  </thead>\n",
       "  <tbody>\n",
       "    <tr>\n",
       "      <th>0</th>\n",
       "      <td>NEW YORK NY</td>\n",
       "      <td>8405837</td>\n",
       "      <td>302149</td>\n",
       "    </tr>\n",
       "    <tr>\n",
       "      <th>1</th>\n",
       "      <td>CHICAGO IL</td>\n",
       "      <td>1955130</td>\n",
       "      <td>164468</td>\n",
       "    </tr>\n",
       "    <tr>\n",
       "      <th>2</th>\n",
       "      <td>LOS ANGELES CA</td>\n",
       "      <td>1595037</td>\n",
       "      <td>144132</td>\n",
       "    </tr>\n",
       "    <tr>\n",
       "      <th>3</th>\n",
       "      <td>MIAMI FL</td>\n",
       "      <td>1339155</td>\n",
       "      <td>17675</td>\n",
       "    </tr>\n",
       "    <tr>\n",
       "      <th>4</th>\n",
       "      <td>SILICON VALLEY</td>\n",
       "      <td>1177609</td>\n",
       "      <td>27247</td>\n",
       "    </tr>\n",
       "  </tbody>\n",
       "</table>\n",
       "</div>"
      ],
      "text/plain": [
       "             City  Population   Users\n",
       "0     NEW YORK NY     8405837  302149\n",
       "1      CHICAGO IL     1955130  164468\n",
       "2  LOS ANGELES CA     1595037  144132\n",
       "3        MIAMI FL     1339155   17675\n",
       "4  SILICON VALLEY     1177609   27247"
      ]
     },
     "execution_count": 18,
     "metadata": {},
     "output_type": "execute_result"
    }
   ],
   "source": [
    "# Inspecting the data \n",
    "\n",
    "dfcity.head()"
   ]
  },
  {
   "cell_type": "code",
   "execution_count": 37,
   "id": "53f9d8b8",
   "metadata": {},
   "outputs": [
    {
     "data": {
      "text/plain": [
       "False"
      ]
     },
     "execution_count": 37,
     "metadata": {},
     "output_type": "execute_result"
    }
   ],
   "source": [
    "# Checking for null values\n",
    "\n",
    "dfcity.isnull(). values. any()"
   ]
  },
  {
   "cell_type": "code",
   "execution_count": 34,
   "id": "8962c2e6",
   "metadata": {},
   "outputs": [
    {
     "data": {
      "text/plain": [
       "False"
      ]
     },
     "execution_count": 34,
     "metadata": {},
     "output_type": "execute_result"
    }
   ],
   "source": [
    "# Checking for duplicate values\n",
    "\n",
    "dfcity.duplicated().values.any()"
   ]
  },
  {
   "cell_type": "code",
   "execution_count": 35,
   "id": "7a52f249",
   "metadata": {},
   "outputs": [
    {
     "data": {
      "text/plain": [
       "False"
      ]
     },
     "execution_count": 35,
     "metadata": {},
     "output_type": "execute_result"
    }
   ],
   "source": [
    "# Checking for blank values\n",
    "\n",
    "dfcity.eq('').values.any()"
   ]
  },
  {
   "cell_type": "code",
   "execution_count": 6,
   "id": "65829c4b",
   "metadata": {},
   "outputs": [],
   "source": [
    "# Importing CUSTOMER DATA file into Pandas\n",
    "\n",
    "dfcustomer = pd.read_excel(r'C:\\Users\\MMOHIUD2\\Desktop\\Internship\\CAB Project\\CUSTOMER ID.xlsx')"
   ]
  },
  {
   "cell_type": "code",
   "execution_count": 41,
   "id": "a58e6034",
   "metadata": {
    "scrolled": true
   },
   "outputs": [
    {
     "name": "stdout",
     "output_type": "stream",
     "text": [
      "<class 'pandas.core.frame.DataFrame'>\n",
      "RangeIndex: 49171 entries, 0 to 49170\n",
      "Data columns (total 4 columns):\n",
      " #   Column              Non-Null Count  Dtype \n",
      "---  ------              --------------  ----- \n",
      " 0   Customer ID         49171 non-null  int64 \n",
      " 1   Gender              49171 non-null  object\n",
      " 2   Age                 49171 non-null  int64 \n",
      " 3   Income (USD/Month)  49171 non-null  int64 \n",
      "dtypes: int64(3), object(1)\n",
      "memory usage: 1.5+ MB\n"
     ]
    }
   ],
   "source": [
    "# Checking CUSTOMER DATA properties\n",
    "\n",
    "dfcustomer.info()"
   ]
  },
  {
   "cell_type": "code",
   "execution_count": 42,
   "id": "b7c31362",
   "metadata": {},
   "outputs": [
    {
     "data": {
      "text/html": [
       "<div>\n",
       "<style scoped>\n",
       "    .dataframe tbody tr th:only-of-type {\n",
       "        vertical-align: middle;\n",
       "    }\n",
       "\n",
       "    .dataframe tbody tr th {\n",
       "        vertical-align: top;\n",
       "    }\n",
       "\n",
       "    .dataframe thead th {\n",
       "        text-align: right;\n",
       "    }\n",
       "</style>\n",
       "<table border=\"1\" class=\"dataframe\">\n",
       "  <thead>\n",
       "    <tr style=\"text-align: right;\">\n",
       "      <th></th>\n",
       "      <th>Customer ID</th>\n",
       "      <th>Gender</th>\n",
       "      <th>Age</th>\n",
       "      <th>Income (USD/Month)</th>\n",
       "    </tr>\n",
       "  </thead>\n",
       "  <tbody>\n",
       "    <tr>\n",
       "      <th>0</th>\n",
       "      <td>29290</td>\n",
       "      <td>Male</td>\n",
       "      <td>28</td>\n",
       "      <td>10813</td>\n",
       "    </tr>\n",
       "    <tr>\n",
       "      <th>1</th>\n",
       "      <td>27703</td>\n",
       "      <td>Male</td>\n",
       "      <td>27</td>\n",
       "      <td>9237</td>\n",
       "    </tr>\n",
       "    <tr>\n",
       "      <th>2</th>\n",
       "      <td>28712</td>\n",
       "      <td>Male</td>\n",
       "      <td>53</td>\n",
       "      <td>11242</td>\n",
       "    </tr>\n",
       "    <tr>\n",
       "      <th>3</th>\n",
       "      <td>28020</td>\n",
       "      <td>Male</td>\n",
       "      <td>23</td>\n",
       "      <td>23327</td>\n",
       "    </tr>\n",
       "    <tr>\n",
       "      <th>4</th>\n",
       "      <td>27182</td>\n",
       "      <td>Male</td>\n",
       "      <td>33</td>\n",
       "      <td>8536</td>\n",
       "    </tr>\n",
       "  </tbody>\n",
       "</table>\n",
       "</div>"
      ],
      "text/plain": [
       "   Customer ID Gender  Age  Income (USD/Month)\n",
       "0        29290   Male   28               10813\n",
       "1        27703   Male   27                9237\n",
       "2        28712   Male   53               11242\n",
       "3        28020   Male   23               23327\n",
       "4        27182   Male   33                8536"
      ]
     },
     "execution_count": 42,
     "metadata": {},
     "output_type": "execute_result"
    }
   ],
   "source": [
    "# Inspecting the data \n",
    "\n",
    "dfcustomer.head()"
   ]
  },
  {
   "cell_type": "code",
   "execution_count": 43,
   "id": "7737fccb",
   "metadata": {},
   "outputs": [
    {
     "data": {
      "text/plain": [
       "False"
      ]
     },
     "execution_count": 43,
     "metadata": {},
     "output_type": "execute_result"
    }
   ],
   "source": [
    "# Checking for null values\n",
    "\n",
    "dfcustomer.isnull(). values. any()"
   ]
  },
  {
   "cell_type": "code",
   "execution_count": 44,
   "id": "1d7ab0b2",
   "metadata": {},
   "outputs": [
    {
     "data": {
      "text/plain": [
       "False"
      ]
     },
     "execution_count": 44,
     "metadata": {},
     "output_type": "execute_result"
    }
   ],
   "source": [
    "# Checking for duplicate values\n",
    "\n",
    "dfcustomer.duplicated().values.any()"
   ]
  },
  {
   "cell_type": "code",
   "execution_count": 45,
   "id": "62fcbb7b",
   "metadata": {},
   "outputs": [
    {
     "data": {
      "text/plain": [
       "False"
      ]
     },
     "execution_count": 45,
     "metadata": {},
     "output_type": "execute_result"
    }
   ],
   "source": [
    "# Checking for blank values\n",
    "\n",
    "dfcustomer.eq('').values.any()"
   ]
  },
  {
   "cell_type": "code",
   "execution_count": 7,
   "id": "fd521766",
   "metadata": {},
   "outputs": [],
   "source": [
    "# Importing  TRANSACTION DATA file into Pandas\n",
    "\n",
    "dftransaction = pd.read_excel(r'C:\\Users\\MMOHIUD2\\Desktop\\Internship\\CAB Project\\TRANSACTION ID.xlsx')"
   ]
  },
  {
   "cell_type": "code",
   "execution_count": 47,
   "id": "dde8c976",
   "metadata": {},
   "outputs": [
    {
     "data": {
      "text/html": [
       "<div>\n",
       "<style scoped>\n",
       "    .dataframe tbody tr th:only-of-type {\n",
       "        vertical-align: middle;\n",
       "    }\n",
       "\n",
       "    .dataframe tbody tr th {\n",
       "        vertical-align: top;\n",
       "    }\n",
       "\n",
       "    .dataframe thead th {\n",
       "        text-align: right;\n",
       "    }\n",
       "</style>\n",
       "<table border=\"1\" class=\"dataframe\">\n",
       "  <thead>\n",
       "    <tr style=\"text-align: right;\">\n",
       "      <th></th>\n",
       "      <th>Transaction ID</th>\n",
       "      <th>Customer ID</th>\n",
       "      <th>Payment_Mode</th>\n",
       "    </tr>\n",
       "  </thead>\n",
       "  <tbody>\n",
       "    <tr>\n",
       "      <th>0</th>\n",
       "      <td>10000011</td>\n",
       "      <td>29290</td>\n",
       "      <td>Card</td>\n",
       "    </tr>\n",
       "    <tr>\n",
       "      <th>1</th>\n",
       "      <td>10000012</td>\n",
       "      <td>27703</td>\n",
       "      <td>Card</td>\n",
       "    </tr>\n",
       "    <tr>\n",
       "      <th>2</th>\n",
       "      <td>10000013</td>\n",
       "      <td>28712</td>\n",
       "      <td>Cash</td>\n",
       "    </tr>\n",
       "    <tr>\n",
       "      <th>3</th>\n",
       "      <td>10000014</td>\n",
       "      <td>28020</td>\n",
       "      <td>Cash</td>\n",
       "    </tr>\n",
       "    <tr>\n",
       "      <th>4</th>\n",
       "      <td>10000015</td>\n",
       "      <td>27182</td>\n",
       "      <td>Card</td>\n",
       "    </tr>\n",
       "  </tbody>\n",
       "</table>\n",
       "</div>"
      ],
      "text/plain": [
       "   Transaction ID  Customer ID Payment_Mode\n",
       "0        10000011        29290         Card\n",
       "1        10000012        27703         Card\n",
       "2        10000013        28712         Cash\n",
       "3        10000014        28020         Cash\n",
       "4        10000015        27182         Card"
      ]
     },
     "execution_count": 47,
     "metadata": {},
     "output_type": "execute_result"
    }
   ],
   "source": [
    "dftransaction.head()"
   ]
  },
  {
   "cell_type": "code",
   "execution_count": 48,
   "id": "8b875a95",
   "metadata": {},
   "outputs": [
    {
     "name": "stdout",
     "output_type": "stream",
     "text": [
      "<class 'pandas.core.frame.DataFrame'>\n",
      "RangeIndex: 440098 entries, 0 to 440097\n",
      "Data columns (total 3 columns):\n",
      " #   Column          Non-Null Count   Dtype \n",
      "---  ------          --------------   ----- \n",
      " 0   Transaction ID  440098 non-null  int64 \n",
      " 1   Customer ID     440098 non-null  int64 \n",
      " 2   Payment_Mode    440098 non-null  object\n",
      "dtypes: int64(2), object(1)\n",
      "memory usage: 10.1+ MB\n"
     ]
    }
   ],
   "source": [
    "dftransaction.info()"
   ]
  },
  {
   "cell_type": "code",
   "execution_count": 49,
   "id": "33f344ef",
   "metadata": {},
   "outputs": [
    {
     "data": {
      "text/plain": [
       "False"
      ]
     },
     "execution_count": 49,
     "metadata": {},
     "output_type": "execute_result"
    }
   ],
   "source": [
    "# Checking for null values\n",
    "\n",
    "dftransaction.isnull(). values. any()"
   ]
  },
  {
   "cell_type": "code",
   "execution_count": 50,
   "id": "5c812a7b",
   "metadata": {},
   "outputs": [
    {
     "data": {
      "text/plain": [
       "False"
      ]
     },
     "execution_count": 50,
     "metadata": {},
     "output_type": "execute_result"
    }
   ],
   "source": [
    "# Checking for duplicate values\n",
    "\n",
    "dftransaction.duplicated().values.any()"
   ]
  },
  {
   "cell_type": "code",
   "execution_count": 51,
   "id": "a090c822",
   "metadata": {},
   "outputs": [
    {
     "data": {
      "text/plain": [
       "False"
      ]
     },
     "execution_count": 51,
     "metadata": {},
     "output_type": "execute_result"
    }
   ],
   "source": [
    "# Checking for blank values\n",
    "\n",
    "dftransaction.eq('').values.any()"
   ]
  },
  {
   "cell_type": "code",
   "execution_count": 40,
   "id": "d690a8db",
   "metadata": {},
   "outputs": [],
   "source": [
    "# Merging CITY and CAB Data files \n",
    "\n",
    "cityncab = pd.merge(dfcity,dfcab,on='City')"
   ]
  },
  {
   "cell_type": "code",
   "execution_count": 49,
   "id": "f684f565",
   "metadata": {},
   "outputs": [],
   "source": [
    "# Merging CUSTOMER and TRANSACTION Data files \n",
    "\n",
    "customerntransaction = pd.merge(dfcustomer,dftransaction,on='Customer ID')"
   ]
  },
  {
   "cell_type": "code",
   "execution_count": 83,
   "id": "fe9f3ade",
   "metadata": {},
   "outputs": [
    {
     "data": {
      "text/html": [
       "<div>\n",
       "<style scoped>\n",
       "    .dataframe tbody tr th:only-of-type {\n",
       "        vertical-align: middle;\n",
       "    }\n",
       "\n",
       "    .dataframe tbody tr th {\n",
       "        vertical-align: top;\n",
       "    }\n",
       "\n",
       "    .dataframe thead th {\n",
       "        text-align: right;\n",
       "    }\n",
       "</style>\n",
       "<table border=\"1\" class=\"dataframe\">\n",
       "  <thead>\n",
       "    <tr style=\"text-align: right;\">\n",
       "      <th></th>\n",
       "      <th>City</th>\n",
       "      <th>Population</th>\n",
       "      <th>Users</th>\n",
       "      <th>Transaction ID</th>\n",
       "      <th>Date of Travel</th>\n",
       "      <th>Company</th>\n",
       "      <th>KM Travelled</th>\n",
       "      <th>Price Charged</th>\n",
       "      <th>Cost of Trip</th>\n",
       "      <th>Customer ID</th>\n",
       "      <th>Gender</th>\n",
       "      <th>Age</th>\n",
       "      <th>Income (USD/Month)</th>\n",
       "      <th>Payment_Mode</th>\n",
       "    </tr>\n",
       "  </thead>\n",
       "  <tbody>\n",
       "    <tr>\n",
       "      <th>0</th>\n",
       "      <td>NEW YORK NY</td>\n",
       "      <td>8405837</td>\n",
       "      <td>302149</td>\n",
       "      <td>10000139</td>\n",
       "      <td>2016-05-15 00:00:00</td>\n",
       "      <td>Pink Cab</td>\n",
       "      <td>17.85</td>\n",
       "      <td>242.90</td>\n",
       "      <td>198.135</td>\n",
       "      <td>2416</td>\n",
       "      <td>Male</td>\n",
       "      <td>28</td>\n",
       "      <td>21399</td>\n",
       "      <td>Cash</td>\n",
       "    </tr>\n",
       "    <tr>\n",
       "      <th>1</th>\n",
       "      <td>NEW YORK NY</td>\n",
       "      <td>8405837</td>\n",
       "      <td>302149</td>\n",
       "      <td>10000140</td>\n",
       "      <td>2016-05-16 00:00:00</td>\n",
       "      <td>Pink Cab</td>\n",
       "      <td>25.30</td>\n",
       "      <td>407.21</td>\n",
       "      <td>255.530</td>\n",
       "      <td>2060</td>\n",
       "      <td>Male</td>\n",
       "      <td>18</td>\n",
       "      <td>8149</td>\n",
       "      <td>Card</td>\n",
       "    </tr>\n",
       "    <tr>\n",
       "      <th>2</th>\n",
       "      <td>NEW YORK NY</td>\n",
       "      <td>8405837</td>\n",
       "      <td>302149</td>\n",
       "      <td>10000141</td>\n",
       "      <td>2016-05-17 00:00:00</td>\n",
       "      <td>Pink Cab</td>\n",
       "      <td>16.32</td>\n",
       "      <td>236.41</td>\n",
       "      <td>186.048</td>\n",
       "      <td>1451</td>\n",
       "      <td>Male</td>\n",
       "      <td>35</td>\n",
       "      <td>23989</td>\n",
       "      <td>Card</td>\n",
       "    </tr>\n",
       "    <tr>\n",
       "      <th>3</th>\n",
       "      <td>NEW YORK NY</td>\n",
       "      <td>8405837</td>\n",
       "      <td>302149</td>\n",
       "      <td>10000142</td>\n",
       "      <td>2016-05-18 00:00:00</td>\n",
       "      <td>Pink Cab</td>\n",
       "      <td>12.43</td>\n",
       "      <td>194.61</td>\n",
       "      <td>144.188</td>\n",
       "      <td>1609</td>\n",
       "      <td>Male</td>\n",
       "      <td>30</td>\n",
       "      <td>23036</td>\n",
       "      <td>Card</td>\n",
       "    </tr>\n",
       "    <tr>\n",
       "      <th>4</th>\n",
       "      <td>NEW YORK NY</td>\n",
       "      <td>8405837</td>\n",
       "      <td>302149</td>\n",
       "      <td>10000143</td>\n",
       "      <td>2016-05-19 00:00:00</td>\n",
       "      <td>Pink Cab</td>\n",
       "      <td>29.70</td>\n",
       "      <td>434.57</td>\n",
       "      <td>350.460</td>\n",
       "      <td>2927</td>\n",
       "      <td>Male</td>\n",
       "      <td>33</td>\n",
       "      <td>14520</td>\n",
       "      <td>Cash</td>\n",
       "    </tr>\n",
       "  </tbody>\n",
       "</table>\n",
       "</div>"
      ],
      "text/plain": [
       "          City  Population   Users  Transaction ID       Date of Travel  \\\n",
       "0  NEW YORK NY     8405837  302149        10000139  2016-05-15 00:00:00   \n",
       "1  NEW YORK NY     8405837  302149        10000140  2016-05-16 00:00:00   \n",
       "2  NEW YORK NY     8405837  302149        10000141  2016-05-17 00:00:00   \n",
       "3  NEW YORK NY     8405837  302149        10000142  2016-05-18 00:00:00   \n",
       "4  NEW YORK NY     8405837  302149        10000143  2016-05-19 00:00:00   \n",
       "\n",
       "    Company  KM Travelled  Price Charged  Cost of Trip  Customer ID Gender  \\\n",
       "0  Pink Cab         17.85         242.90       198.135         2416   Male   \n",
       "1  Pink Cab         25.30         407.21       255.530         2060   Male   \n",
       "2  Pink Cab         16.32         236.41       186.048         1451   Male   \n",
       "3  Pink Cab         12.43         194.61       144.188         1609   Male   \n",
       "4  Pink Cab         29.70         434.57       350.460         2927   Male   \n",
       "\n",
       "   Age  Income (USD/Month) Payment_Mode  \n",
       "0   28               21399         Cash  \n",
       "1   18                8149         Card  \n",
       "2   35               23989         Card  \n",
       "3   30               23036         Card  \n",
       "4   33               14520         Cash  "
      ]
     },
     "execution_count": 83,
     "metadata": {},
     "output_type": "execute_result"
    }
   ],
   "source": [
    "# Merging all the data files\n",
    "\n",
    "All = pd.merge(cityncab,customerntransaction,on='Transaction ID')\n",
    "All.head()"
   ]
  },
  {
   "cell_type": "code",
   "execution_count": 87,
   "id": "cc02476e",
   "metadata": {},
   "outputs": [
    {
     "data": {
      "text/html": [
       "<div>\n",
       "<style scoped>\n",
       "    .dataframe tbody tr th:only-of-type {\n",
       "        vertical-align: middle;\n",
       "    }\n",
       "\n",
       "    .dataframe tbody tr th {\n",
       "        vertical-align: top;\n",
       "    }\n",
       "\n",
       "    .dataframe thead th {\n",
       "        text-align: right;\n",
       "    }\n",
       "</style>\n",
       "<table border=\"1\" class=\"dataframe\">\n",
       "  <thead>\n",
       "    <tr style=\"text-align: right;\">\n",
       "      <th></th>\n",
       "      <th>Population</th>\n",
       "      <th>Users</th>\n",
       "      <th>Transaction ID</th>\n",
       "      <th>KM Travelled</th>\n",
       "      <th>Price Charged</th>\n",
       "      <th>Cost of Trip</th>\n",
       "      <th>Customer ID</th>\n",
       "      <th>Age</th>\n",
       "      <th>Income (USD/Month)</th>\n",
       "    </tr>\n",
       "    <tr>\n",
       "      <th>Company</th>\n",
       "      <th></th>\n",
       "      <th></th>\n",
       "      <th></th>\n",
       "      <th></th>\n",
       "      <th></th>\n",
       "      <th></th>\n",
       "      <th></th>\n",
       "      <th></th>\n",
       "      <th></th>\n",
       "    </tr>\n",
       "  </thead>\n",
       "  <tbody>\n",
       "    <tr>\n",
       "      <th>Pink Cab</th>\n",
       "      <td>1595037.0</td>\n",
       "      <td>144132.0</td>\n",
       "      <td>10225904.0</td>\n",
       "      <td>22.44</td>\n",
       "      <td>298.06</td>\n",
       "      <td>246.330</td>\n",
       "      <td>8876.0</td>\n",
       "      <td>33.0</td>\n",
       "      <td>14713.0</td>\n",
       "    </tr>\n",
       "    <tr>\n",
       "      <th>Yellow Cab</th>\n",
       "      <td>1595037.0</td>\n",
       "      <td>144132.0</td>\n",
       "      <td>10219868.0</td>\n",
       "      <td>22.44</td>\n",
       "      <td>425.06</td>\n",
       "      <td>295.596</td>\n",
       "      <td>6445.0</td>\n",
       "      <td>33.0</td>\n",
       "      <td>14676.0</td>\n",
       "    </tr>\n",
       "  </tbody>\n",
       "</table>\n",
       "</div>"
      ],
      "text/plain": [
       "            Population     Users  Transaction ID  KM Travelled  Price Charged  \\\n",
       "Company                                                                         \n",
       "Pink Cab     1595037.0  144132.0      10225904.0         22.44         298.06   \n",
       "Yellow Cab   1595037.0  144132.0      10219868.0         22.44         425.06   \n",
       "\n",
       "            Cost of Trip  Customer ID   Age  Income (USD/Month)  \n",
       "Company                                                          \n",
       "Pink Cab         246.330       8876.0  33.0             14713.0  \n",
       "Yellow Cab       295.596       6445.0  33.0             14676.0  "
      ]
     },
     "execution_count": 87,
     "metadata": {},
     "output_type": "execute_result"
    }
   ],
   "source": [
    "All.groupby('Company').median()"
   ]
  },
  {
   "cell_type": "code",
   "execution_count": 86,
   "id": "190bee49",
   "metadata": {},
   "outputs": [
    {
     "name": "stdout",
     "output_type": "stream",
     "text": [
      "<class 'pandas.core.frame.DataFrame'>\n",
      "Int64Index: 359392 entries, 0 to 359391\n",
      "Data columns (total 14 columns):\n",
      " #   Column              Non-Null Count   Dtype  \n",
      "---  ------              --------------   -----  \n",
      " 0   City                359392 non-null  object \n",
      " 1   Population          359392 non-null  int64  \n",
      " 2   Users               359392 non-null  int64  \n",
      " 3   Transaction ID      359392 non-null  int64  \n",
      " 4   Date of Travel      359392 non-null  object \n",
      " 5   Company             359392 non-null  object \n",
      " 6   KM Travelled        359392 non-null  float64\n",
      " 7   Price Charged       359392 non-null  float64\n",
      " 8   Cost of Trip        359392 non-null  float64\n",
      " 9   Customer ID         359392 non-null  int64  \n",
      " 10  Gender              359392 non-null  object \n",
      " 11  Age                 359392 non-null  int64  \n",
      " 12  Income (USD/Month)  359392 non-null  int64  \n",
      " 13  Payment_Mode        359392 non-null  object \n",
      "dtypes: float64(3), int64(6), object(5)\n",
      "memory usage: 41.1+ MB\n"
     ]
    }
   ],
   "source": [
    "All.info()"
   ]
  },
  {
   "cell_type": "markdown",
   "id": "caaf0ef6",
   "metadata": {},
   "source": [
    "# Hypothesis Development - Work In Progress"
   ]
  },
  {
   "cell_type": "code",
   "execution_count": 62,
   "id": "186760ec",
   "metadata": {},
   "outputs": [],
   "source": [
    "import statsmodels.api as sm\n",
    "from statsmodels.formula.api import ols\n"
   ]
  },
  {
   "cell_type": "code",
   "execution_count": 53,
   "id": "4a04d423",
   "metadata": {},
   "outputs": [],
   "source": [
    "Income = customerntransaction[['Income (USD/Month)']]\n",
    "Gender = customerntransaction[['Gender']]\n",
    "Age = customerntransaction[['Age']]"
   ]
  },
  {
   "cell_type": "code",
   "execution_count": 64,
   "id": "3889542f",
   "metadata": {},
   "outputs": [
    {
     "data": {
      "text/html": [
       "<div>\n",
       "<style scoped>\n",
       "    .dataframe tbody tr th:only-of-type {\n",
       "        vertical-align: middle;\n",
       "    }\n",
       "\n",
       "    .dataframe tbody tr th {\n",
       "        vertical-align: top;\n",
       "    }\n",
       "\n",
       "    .dataframe thead th {\n",
       "        text-align: right;\n",
       "    }\n",
       "</style>\n",
       "<table border=\"1\" class=\"dataframe\">\n",
       "  <thead>\n",
       "    <tr style=\"text-align: right;\">\n",
       "      <th></th>\n",
       "      <th>df</th>\n",
       "      <th>sum_sq</th>\n",
       "      <th>mean_sq</th>\n",
       "      <th>F</th>\n",
       "      <th>PR(&gt;F)</th>\n",
       "    </tr>\n",
       "  </thead>\n",
       "  <tbody>\n",
       "    <tr>\n",
       "      <th>C(Gender)</th>\n",
       "      <td>1.0</td>\n",
       "      <td>8.152851e+08</td>\n",
       "      <td>8.152851e+08</td>\n",
       "      <td>12.833925</td>\n",
       "      <td>3.404277e-04</td>\n",
       "    </tr>\n",
       "    <tr>\n",
       "      <th>C(Age)</th>\n",
       "      <td>47.0</td>\n",
       "      <td>6.626067e+10</td>\n",
       "      <td>1.409801e+09</td>\n",
       "      <td>22.192587</td>\n",
       "      <td>1.507279e-187</td>\n",
       "    </tr>\n",
       "    <tr>\n",
       "      <th>C(Gender):C(Age)</th>\n",
       "      <td>47.0</td>\n",
       "      <td>5.837137e+10</td>\n",
       "      <td>1.241944e+09</td>\n",
       "      <td>19.550237</td>\n",
       "      <td>7.119670e-162</td>\n",
       "    </tr>\n",
       "    <tr>\n",
       "      <th>Residual</th>\n",
       "      <td>440002.0</td>\n",
       "      <td>2.795147e+13</td>\n",
       "      <td>6.352578e+07</td>\n",
       "      <td>NaN</td>\n",
       "      <td>NaN</td>\n",
       "    </tr>\n",
       "  </tbody>\n",
       "</table>\n",
       "</div>"
      ],
      "text/plain": [
       "                        df        sum_sq       mean_sq          F  \\\n",
       "C(Gender)              1.0  8.152851e+08  8.152851e+08  12.833925   \n",
       "C(Age)                47.0  6.626067e+10  1.409801e+09  22.192587   \n",
       "C(Gender):C(Age)      47.0  5.837137e+10  1.241944e+09  19.550237   \n",
       "Residual          440002.0  2.795147e+13  6.352578e+07        NaN   \n",
       "\n",
       "                         PR(>F)  \n",
       "C(Gender)          3.404277e-04  \n",
       "C(Age)            1.507279e-187  \n",
       "C(Gender):C(Age)  7.119670e-162  \n",
       "Residual                    NaN  "
      ]
     },
     "execution_count": 64,
     "metadata": {},
     "output_type": "execute_result"
    }
   ],
   "source": [
    "model = ols('Income ~ C(Gender) + C(Age) + C(Gender):C(Age)', data=customerntransaction).fit()\n",
    "sm.stats.anova_lm(model, typ=1)\n"
   ]
  },
  {
   "cell_type": "code",
   "execution_count": null,
   "id": "9c0d348f",
   "metadata": {},
   "outputs": [],
   "source": []
  }
 ],
 "metadata": {
  "kernelspec": {
   "display_name": "Python 3 (ipykernel)",
   "language": "python",
   "name": "python3"
  },
  "language_info": {
   "codemirror_mode": {
    "name": "ipython",
    "version": 3
   },
   "file_extension": ".py",
   "mimetype": "text/x-python",
   "name": "python",
   "nbconvert_exporter": "python",
   "pygments_lexer": "ipython3",
   "version": "3.9.7"
  }
 },
 "nbformat": 4,
 "nbformat_minor": 5
}
